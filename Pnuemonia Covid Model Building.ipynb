{
 "cells": [
  {
   "cell_type": "code",
   "execution_count": 1,
   "id": "13c93623-4085-4d6f-93d5-7df4a495727b",
   "metadata": {},
   "outputs": [],
   "source": [
    "import os\n",
    "import numpy as np\n",
    "import matplotlib.pyplot as plt\n",
    "import random\n",
    "import cv2\n",
    "import tensorflow as tf\n",
    "from sklearn.metrics import precision_score, recall_score, f1_score\n",
    "from tensorflow.keras.preprocessing.image import ImageDataGenerator\n",
    "from tensorflow.keras.applications import MobileNetV2\n",
    "from tensorflow.keras.models import Model\n",
    "from tensorflow.keras.layers import Dense, GlobalAveragePooling2D, Dropout, Input\n",
    "from tensorflow.keras.callbacks import EarlyStopping, ModelCheckpoint, ReduceLROnPlateau\n",
    "from tensorflow.keras.optimizers import Adam\n"
   ]
  },
  {
   "cell_type": "code",
   "execution_count": null,
   "id": "df51c19e-64dd-44c4-bbbb-95771f2f360d",
   "metadata": {},
   "outputs": [],
   "source": [
    "# Dataset Path\n",
    "dataset_path = 'PNEUMONIACOVID'"
   ]
  },
  {
   "cell_type": "code",
   "execution_count": null,
   "id": "e9906d1f-f722-4925-bcb3-3f7820e3af31",
   "metadata": {},
   "outputs": [],
   "source": [
    "# Fungsi untuk menghitung jumlah gambar dalam setiap folder\n",
    "def count_images_per_folder(path):\n",
    "    folder_counts = {}\n",
    "    for folder_name in os.listdir(path):\n",
    "        folder_path = os.path.join(path, folder_name)\n",
    "        if os.path.isdir(folder_path):\n",
    "            num_images = len([f for f in os.listdir(folder_path) if f.lower().endswith(('png', 'jpg', 'jpeg'))])\n",
    "            folder_counts[folder_name] = num_images\n",
    "    return folder_counts\n",
    "\n",
    "# Hitung jumlah gambar per folder\n",
    "folder_counts = count_images_per_folder(dataset_path)\n",
    "print(\"Jumlah gambar per folder:\")\n",
    "for folder, count in folder_counts.items():\n",
    "    print(f\"{folder}: {count}\")"
   ]
  },
  {
   "cell_type": "code",
   "execution_count": null,
   "id": "89d69c94-09f8-4f9a-898e-c35c43156cab",
   "metadata": {},
   "outputs": [],
   "source": [
    "plt.figure(figsize=(8, 6))\n",
    "plt.bar(folder_counts.keys(), folder_counts.values(), color=['blue', 'green', 'red'])\n",
    "plt.title(\"Distribusi Kelas dalam Dataset\")\n",
    "plt.xlabel(\"Kelas\")\n",
    "plt.ylabel(\"Jumlah Gambar\")\n",
    "plt.show()"
   ]
  },
  {
   "cell_type": "code",
   "execution_count": null,
   "id": "ed33e6a6-cbe9-4825-a50a-d58005879b73",
   "metadata": {},
   "outputs": [],
   "source": [
    "# Fungsi untuk menampilkan beberapa contoh gambar per folder\n",
    "def show_sample_images(path, num_samples=4):\n",
    "    fig, axes = plt.subplots(len(os.listdir(path)), num_samples, figsize=(15, 10))\n",
    "    fig.suptitle(\"Sample Images from Each Class\", fontsize=16)\n",
    "    \n",
    "    for i, folder_name in enumerate(os.listdir(path)):\n",
    "        folder_path = os.path.join(path, folder_name)\n",
    "        if os.path.isdir(folder_path):\n",
    "            image_files = [f for f in os.listdir(folder_path) if f.lower().endswith(('png', 'jpg', 'jpeg'))]\n",
    "            sample_files = random.sample(image_files, min(num_samples, len(image_files)))\n",
    "            \n",
    "            for j, image_file in enumerate(sample_files):\n",
    "                image_path = os.path.join(folder_path, image_file)\n",
    "                img = cv2.imread(image_path)\n",
    "                img = cv2.cvtColor(img, cv2.COLOR_BGR2RGB)  # Convert BGR to RGB for display\n",
    "                axes[i, j].imshow(img)\n",
    "                axes[i, j].axis('off')\n",
    "                axes[i, j].set_title(f\"{folder_name}\")\n",
    "    \n",
    "    plt.tight_layout()\n",
    "    plt.show()\n",
    "\n",
    "# Menampilkan contoh gambar\n",
    "show_sample_images(dataset_path, num_samples=4)"
   ]
  },
  {
   "cell_type": "code",
   "execution_count": null,
   "id": "fa3b3687-96fe-45a1-9cb8-beaeea055ffa",
   "metadata": {},
   "outputs": [],
   "source": [
    "img_size = (224, 224)\n",
    "batch_size = 32"
   ]
  },
  {
   "cell_type": "code",
   "execution_count": null,
   "id": "755b6ccb-7d59-45c2-8f3f-6b16788d555c",
   "metadata": {},
   "outputs": [],
   "source": [
    "# Data Augmentation\n",
    "train_datagen = ImageDataGenerator(\n",
    "    rescale=1./255,\n",
    "    rotation_range=15,\n",
    "    width_shift_range=0.1,\n",
    "    height_shift_range=0.1,\n",
    "    shear_range=0.1,\n",
    "    zoom_range=0.1,\n",
    "    horizontal_flip=True,\n",
    "    validation_split=0.2\n",
    ")"
   ]
  },
  {
   "cell_type": "code",
   "execution_count": null,
   "id": "48ce72f7-532b-499b-bb27-02fd89750c9a",
   "metadata": {},
   "outputs": [],
   "source": [
    "val_datagen = ImageDataGenerator(\n",
    "    rescale=1./255,\n",
    "    validation_split=0.2\n",
    ")"
   ]
  },
  {
   "cell_type": "code",
   "execution_count": null,
   "id": "c9301f10-0bbd-4d40-9082-903b6bced91a",
   "metadata": {},
   "outputs": [],
   "source": [
    "# Load Training Data\n",
    "train_generator = train_datagen.flow_from_directory(\n",
    "    dataset_path,\n",
    "    target_size=img_size,\n",
    "    batch_size=batch_size,\n",
    "    class_mode='categorical',\n",
    "    subset='training'\n",
    ")"
   ]
  },
  {
   "cell_type": "code",
   "execution_count": null,
   "id": "884c8b4f-34ba-47cf-a20f-78be52a977f9",
   "metadata": {},
   "outputs": [],
   "source": [
    "# Load Validation Data\n",
    "validation_generator = val_datagen.flow_from_directory(\n",
    "    dataset_path,\n",
    "    target_size=img_size,\n",
    "    batch_size=batch_size,\n",
    "    class_mode='categorical',\n",
    "    subset='validation'\n",
    ")"
   ]
  },
  {
   "cell_type": "code",
   "execution_count": null,
   "id": "4e7b9843-96d7-4172-a70b-6f2bf69e3036",
   "metadata": {},
   "outputs": [],
   "source": [
    "# Parameters\n",
    "epochs = 50"
   ]
  },
  {
   "cell_type": "code",
   "execution_count": null,
   "id": "39da367a-2bf5-4954-8e8c-5f72503993c7",
   "metadata": {},
   "outputs": [],
   "source": [
    "input_tensor = Input(shape=(224, 224, 3))  # Dimensi harus jelas\n",
    "base_model = MobileNetV2(weights='imagenet', include_top=False, input_tensor=input_tensor)\n",
    "\n",
    "\n",
    "# Freeze base model\n",
    "base_model.trainable = False"
   ]
  },
  {
   "cell_type": "code",
   "execution_count": null,
   "id": "3d8f94ba-6ec7-468b-a6e4-46638fe8e837",
   "metadata": {},
   "outputs": [],
   "source": [
    "# Add custom layers\n",
    "x = base_model.output\n",
    "x = GlobalAveragePooling2D()(x)\n",
    "x = Dense(128, activation='relu')(x)\n",
    "x = Dropout(0.5)(x)\n",
    "output = Dense(3, activation='softmax')(x)\n",
    "\n",
    "model = Model(inputs=base_model.input, outputs=output)\n",
    "\n",
    "# Compile Model\n",
    "model.compile(optimizer=Adam(learning_rate=1e-4), loss='categorical_crossentropy', metrics=['accuracy'])"
   ]
  },
  {
   "cell_type": "code",
   "execution_count": null,
   "id": "8e65be78-3f01-48af-9af1-099f66deb8d0",
   "metadata": {},
   "outputs": [],
   "source": [
    "# Callbacks\n",
    "early_stopping = EarlyStopping(monitor='val_loss', patience=5, restore_best_weights=True)\n",
    "reduce_lr = ReduceLROnPlateau(monitor='val_loss', factor=0.5, patience=3, min_lr=1e-6)\n",
    "model_checkpoint = ModelCheckpoint('mobilenetv2_best_model.keras', save_best_only=True, monitor='val_loss')"
   ]
  },
  {
   "cell_type": "code",
   "execution_count": null,
   "id": "52d6b6c8-0826-4378-a685-b4ecf3221c21",
   "metadata": {},
   "outputs": [],
   "source": [
    "# Train Model\n",
    "history = model.fit(\n",
    "    train_generator,\n",
    "    validation_data=validation_generator,\n",
    "    epochs=epochs,\n",
    "    callbacks=[early_stopping, reduce_lr, model_checkpoint]\n",
    ")"
   ]
  },
  {
   "cell_type": "code",
   "execution_count": null,
   "id": "fa76e674-80ca-4fef-bc81-263c60004134",
   "metadata": {},
   "outputs": [],
   "source": [
    "plt.figure(figsize=(18, 6))\n",
    "\n",
    "# Plot akurasi training dan validation\n",
    "plt.subplot(1, 3, 1)\n",
    "plt.plot(history.history['accuracy'], label='Akurasi Training')\n",
    "plt.plot(history.history['val_accuracy'], label='Akurasi Validation')\n",
    "plt.title('Akurasi Model')\n",
    "plt.xlabel('Epoch')\n",
    "plt.ylabel('Akurasi')\n",
    "plt.legend()\n",
    "\n",
    "plt.show()"
   ]
  },
  {
   "cell_type": "code",
   "execution_count": null,
   "id": "4c68ccb1-0dd1-427f-b685-a95147db619e",
   "metadata": {},
   "outputs": [],
   "source": [
    "plt.figure(figsize=(18, 6))\n",
    "\n",
    "# Plot loss training dan validation\n",
    "plt.subplot(1, 3, 2)\n",
    "plt.plot(history.history['loss'], label='Loss Training')\n",
    "plt.plot(history.history['val_loss'], label='Loss Validation')\n",
    "plt.title('Loss Model')\n",
    "plt.xlabel('Epoch')\n",
    "plt.ylabel('Loss')\n",
    "plt.legend()\n",
    "plt.show()"
   ]
  },
  {
   "cell_type": "code",
   "execution_count": null,
   "id": "589f921c-b494-4e64-9c44-71b5f0f42765",
   "metadata": {},
   "outputs": [],
   "source": [
    "# Evaluation\n",
    "val_loss, val_accuracy = model.evaluate(validation_generator)\n",
    "print(f\"Loss pada data validasi: {val_loss:.4f}\")\n",
    "print(f\"Akurasi pada data validasi: {val_accuracy:.4f}\")"
   ]
  },
  {
   "cell_type": "code",
   "execution_count": null,
   "id": "60c0056e-3cdb-4041-a6a3-ca274b6e25e2",
   "metadata": {},
   "outputs": [],
   "source": [
    "# Evaluasi model pada data validasi\n",
    "val_loss, val_accuracy = model.evaluate(validation_generator)\n",
    "print(f\"Loss pada data validasi: {val_loss:.4f}\")\n",
    "print(f\"Akurasi pada data validasi: {val_accuracy:.4f}\")"
   ]
  },
  {
   "cell_type": "code",
   "execution_count": null,
   "id": "ba0d9647-1359-438f-8668-84e899a5eae4",
   "metadata": {},
   "outputs": [],
   "source": [
    "# Save Model\n",
    "model_path = 'model.keras'\n",
    "model.save(model_path)\n",
    "print(f\"Model saved at {model_path}\")\n"
   ]
  }
 ],
 "metadata": {
  "kernelspec": {
   "display_name": "Python 3 (ipykernel)",
   "language": "python",
   "name": "python3"
  },
  "language_info": {
   "codemirror_mode": {
    "name": "ipython",
    "version": 3
   },
   "file_extension": ".py",
   "mimetype": "text/x-python",
   "name": "python",
   "nbconvert_exporter": "python",
   "pygments_lexer": "ipython3",
   "version": "3.12.2"
  }
 },
 "nbformat": 4,
 "nbformat_minor": 5
}
